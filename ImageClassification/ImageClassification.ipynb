{
  "nbformat": 4,
  "nbformat_minor": 0,
  "metadata": {
    "colab": {
      "provenance": []
    },
    "kernelspec": {
      "name": "python3",
      "display_name": "Python 3"
    },
    "language_info": {
      "name": "python"
    }
  },
  "cells": [
    {
      "cell_type": "code",
      "execution_count": null,
      "metadata": {
        "id": "RQHsVuLGVxkk"
      },
      "outputs": [],
      "source": [
        "import os\n",
        "import cv2\n",
        "import numpy as np\n",
        "from sklearn.model_selection import train_test_split\n",
        "from PIL import Image\n",
        "import warnings\n",
        "\n",
        "DATADIR = '/PetImages'\n",
        "CATEGORIES = ['Dog', 'Cat']\n",
        "\n",
        "def create_data():\n",
        "    data = []\n",
        "    for category in CATEGORIES:\n",
        "        path = os.path.join(DATADIR, category)\n",
        "        class_num = CATEGORIES.index(category)\n",
        "        for img in os.listdir(path):\n",
        "            img_path = os.path.join(path, img)\n",
        "            try:\n",
        "                with warnings.catch_warnings():\n",
        "                    warnings.simplefilter(\"ignore\")\n",
        "                    with Image.open(img_path) as im:\n",
        "                        im.verify()  # Verify if the image is not corrupt\n",
        "                    img_array = cv2.imread(img_path, cv2.IMREAD_COLOR)\n",
        "                    resized_array = cv2.resize(img_array, (150, 150))\n",
        "                    data.append([resized_array, class_num])\n",
        "            except Exception as e:\n",
        "                pass\n",
        "    return data\n",
        "\n",
        "dataset = create_data()\n",
        "np.random.shuffle(dataset)\n",
        "\n",
        "X = []\n",
        "y = []\n",
        "\n",
        "for features, label in dataset:\n",
        "    X.append(features)\n",
        "    y.append(label)\n",
        "\n",
        "X = np.array(X)\n",
        "y = np.array(y)\n",
        "\n",
        "X_train, X_test, y_train, y_test = train_test_split(X, y, test_size=0.2, random_state=42)\n"
      ]
    },
    {
      "cell_type": "code",
      "source": [
        "import tensorflow as tf\n",
        "from tensorflow.keras.models import Sequential\n",
        "from tensorflow.keras.layers import Dense, Flatten, Conv2D, MaxPooling2D, Dropout\n",
        "from tensorflow.keras.optimizers import Adam\n",
        "from tensorflow.keras.losses import SparseCategoricalCrossentropy\n",
        "\n",
        "\n",
        "# Normalize the pixel values\n",
        "X_train_normalized = X_train / 255.0\n",
        "X_test_normalized = X_test / 255.0\n",
        "\n",
        "# Create a sequential model\n",
        "model = Sequential([\n",
        "    Flatten(input_shape=(150, 150, 3)),\n",
        "    Dense(128, activation='relu'),\n",
        "    Dense(2, activation='softmax')\n",
        "])\n",
        "\n",
        "# Compile the model\n",
        "model.compile(optimizer=Adam(), loss=SparseCategoricalCrossentropy(from_logits=True), metrics=['accuracy'])\n",
        "\n",
        "# Train the model\n",
        "model.fit(X_train_normalized, y_train, epochs=10, validation_split=0.1)\n",
        "\n",
        "# Evaluate the model on test data\n",
        "test_loss, test_accuracy = model.evaluate(X_test_normalized, y_test)\n",
        "print(f\"Test accuracy: {test_accuracy}\")"
      ],
      "metadata": {
        "colab": {
          "base_uri": "https://localhost:8080/"
        },
        "id": "Ehb4ZNWzZamg",
        "outputId": "93d15d42-1f4a-4d0e-85fe-5b395d56296e"
      },
      "execution_count": null,
      "outputs": [
        {
          "output_type": "stream",
          "name": "stdout",
          "text": [
            "Epoch 1/10\n"
          ]
        },
        {
          "output_type": "stream",
          "name": "stderr",
          "text": [
            "/usr/local/lib/python3.9/dist-packages/keras/backend.py:5612: UserWarning: \"`sparse_categorical_crossentropy` received `from_logits=True`, but the `output` argument was produced by a Softmax activation and thus does not represent logits. Was this intended?\n",
            "  output, from_logits = _get_logits(\n"
          ]
        },
        {
          "output_type": "stream",
          "name": "stdout",
          "text": [
            "78/78 [==============================] - 17s 208ms/step - loss: 2.8103 - accuracy: 0.6967 - val_loss: 0.5617 - val_accuracy: 0.7174\n",
            "Epoch 2/10\n",
            "78/78 [==============================] - 16s 201ms/step - loss: 0.6565 - accuracy: 0.7387 - val_loss: 0.5546 - val_accuracy: 0.7464\n",
            "Epoch 3/10\n",
            "78/78 [==============================] - 16s 203ms/step - loss: 0.5403 - accuracy: 0.7706 - val_loss: 0.5696 - val_accuracy: 0.7246\n",
            "Epoch 4/10\n",
            "78/78 [==============================] - 17s 216ms/step - loss: 0.5249 - accuracy: 0.7859 - val_loss: 0.5740 - val_accuracy: 0.7029\n",
            "Epoch 5/10\n",
            "78/78 [==============================] - 16s 202ms/step - loss: 0.5421 - accuracy: 0.7557 - val_loss: 0.5474 - val_accuracy: 0.7645\n",
            "Epoch 6/10\n",
            "78/78 [==============================] - 15s 197ms/step - loss: 0.4832 - accuracy: 0.7892 - val_loss: 0.5647 - val_accuracy: 0.7283\n",
            "Epoch 7/10\n",
            "78/78 [==============================] - 15s 193ms/step - loss: 0.5315 - accuracy: 0.7718 - val_loss: 0.6296 - val_accuracy: 0.7246\n",
            "Epoch 8/10\n",
            "78/78 [==============================] - 15s 194ms/step - loss: 0.4868 - accuracy: 0.7831 - val_loss: 0.5548 - val_accuracy: 0.7283\n",
            "Epoch 9/10\n",
            "78/78 [==============================] - 16s 203ms/step - loss: 0.5008 - accuracy: 0.7872 - val_loss: 0.5574 - val_accuracy: 0.7319\n",
            "Epoch 10/10\n",
            "78/78 [==============================] - 15s 194ms/step - loss: 0.4638 - accuracy: 0.7964 - val_loss: 0.5623 - val_accuracy: 0.7210\n",
            "22/22 [==============================] - 0s 20ms/step - loss: 0.5650 - accuracy: 0.7253\n",
            "Test accuracy: 0.7252907156944275\n"
          ]
        }
      ]
    },
    {
      "cell_type": "code",
      "source": [
        "from tensorflow.keras.layers import Conv2D, MaxPooling2D, Dropout\n",
        "\n",
        "# Create a CNN model\n",
        "cnn_model = Sequential([\n",
        "    Conv2D(32, (3, 3), activation='relu', input_shape=(150, 150, 3)),\n",
        "    MaxPooling2D((2, 2)),\n",
        "    Conv2D(64, (3, 3), activation='relu'),\n",
        "    MaxPooling2D((2, 2)),\n",
        "    Conv2D(128, (3, 3), activation='relu'),\n",
        "    MaxPooling2D((2, 2)),\n",
        "    Flatten(),\n",
        "    Dense(128, activation='relu'),\n",
        "    Dense(2, activation='softmax')\n",
        "])\n",
        "\n",
        "# Compile the CNN model\n",
        "cnn_model.compile(optimizer=Adam(), loss=SparseCategoricalCrossentropy(from_logits=True), metrics=['accuracy'])\n",
        "\n",
        "# Train the CNN model\n",
        "cnn_model.fit(X_train_normalized, y_train, epochs=10, validation_split=0.1)\n",
        "\n",
        "# Evaluate the CNN model on test data\n",
        "test_loss, test_accuracy = cnn_model.evaluate(X_test_normalized, y_test)\n",
        "print(f\"Test accuracy: {test_accuracy}\")\n"
      ],
      "metadata": {
        "colab": {
          "base_uri": "https://localhost:8080/"
        },
        "id": "BGIX2lbOaVPR",
        "outputId": "74596dbc-8ff1-423b-eaaf-fead57aeec02"
      },
      "execution_count": null,
      "outputs": [
        {
          "output_type": "stream",
          "name": "stdout",
          "text": [
            "Epoch 1/10\n",
            "78/78 [==============================] - 135s 2s/step - loss: 0.5927 - accuracy: 0.7702 - val_loss: 0.5799 - val_accuracy: 0.7283\n",
            "Epoch 2/10\n",
            "78/78 [==============================] - 131s 2s/step - loss: 0.5131 - accuracy: 0.7803 - val_loss: 0.5457 - val_accuracy: 0.7246\n",
            "Epoch 3/10\n",
            "78/78 [==============================] - 133s 2s/step - loss: 0.4902 - accuracy: 0.7831 - val_loss: 0.5231 - val_accuracy: 0.7319\n",
            "Epoch 4/10\n",
            "78/78 [==============================] - 120s 2s/step - loss: 0.4559 - accuracy: 0.7908 - val_loss: 0.5238 - val_accuracy: 0.7391\n",
            "Epoch 5/10\n",
            "78/78 [==============================] - 121s 2s/step - loss: 0.4130 - accuracy: 0.8106 - val_loss: 0.5842 - val_accuracy: 0.7428\n",
            "Epoch 6/10\n",
            "78/78 [==============================] - 122s 2s/step - loss: 0.3651 - accuracy: 0.8380 - val_loss: 0.5373 - val_accuracy: 0.7645\n",
            "Epoch 7/10\n",
            "78/78 [==============================] - 121s 2s/step - loss: 0.3083 - accuracy: 0.8582 - val_loss: 0.5998 - val_accuracy: 0.7572\n",
            "Epoch 8/10\n",
            "78/78 [==============================] - 124s 2s/step - loss: 0.2512 - accuracy: 0.8946 - val_loss: 0.6769 - val_accuracy: 0.7428\n",
            "Epoch 9/10\n",
            "78/78 [==============================] - 118s 2s/step - loss: 0.1868 - accuracy: 0.9249 - val_loss: 0.7257 - val_accuracy: 0.7355\n",
            "Epoch 10/10\n",
            "78/78 [==============================] - 121s 2s/step - loss: 0.1241 - accuracy: 0.9548 - val_loss: 0.9244 - val_accuracy: 0.7210\n",
            "22/22 [==============================] - 8s 385ms/step - loss: 0.7226 - accuracy: 0.7558\n",
            "Test accuracy: 0.7558139562606812\n"
          ]
        }
      ]
    },
    {
      "cell_type": "code",
      "source": [
        "# Create a CNN model\n",
        "cnn_model = Sequential([\n",
        "    Conv2D(32, (3, 3), activation='relu', input_shape=(150, 150, 3)),\n",
        "    MaxPooling2D((2, 2)),\n",
        "    Conv2D(64, (3, 3), activation='relu'),\n",
        "    MaxPooling2D((2, 2)),\n",
        "    Conv2D(128, (3, 3), activation='relu'),\n",
        "    MaxPooling2D((2, 2)),\n",
        "    Flatten(),\n",
        "    Dense(128, activation='relu'),\n",
        "    Dense(2, activation='softmax')\n",
        "])\n",
        "\n",
        "# Compile the CNN model\n",
        "cnn_model.compile(optimizer=Adam(), loss=SparseCategoricalCrossentropy(from_logits=True), metrics=['accuracy'])\n",
        "\n",
        "# Train the CNN model\n",
        "cnn_model.fit(X_train_normalized, y_train, epochs=10, validation_split=0.1)\n",
        "\n",
        "# Evaluate the CNN model on test data\n",
        "test_loss, test_accuracy = cnn_model.evaluate(X_test_normalized, y_test)\n",
        "print(f\"Test accuracy: {test_accuracy}\")\n"
      ],
      "metadata": {
        "id": "2peSWWPwhv-e",
        "outputId": "3c3f7764-644b-4212-ca7d-68be0039eb1e",
        "colab": {
          "base_uri": "https://localhost:8080/"
        }
      },
      "execution_count": null,
      "outputs": [
        {
          "output_type": "stream",
          "name": "stdout",
          "text": [
            "Epoch 1/10\n",
            "78/78 [==============================] - 132s 2s/step - loss: 0.5318 - accuracy: 0.7738 - val_loss: 0.5432 - val_accuracy: 0.7283\n",
            "Epoch 2/10\n",
            "78/78 [==============================] - 121s 2s/step - loss: 0.4769 - accuracy: 0.7807 - val_loss: 0.5429 - val_accuracy: 0.7391\n",
            "Epoch 3/10\n",
            "78/78 [==============================] - 118s 2s/step - loss: 0.4531 - accuracy: 0.7985 - val_loss: 0.5414 - val_accuracy: 0.7464\n",
            "Epoch 4/10\n",
            "78/78 [==============================] - 121s 2s/step - loss: 0.3908 - accuracy: 0.8243 - val_loss: 0.6393 - val_accuracy: 0.7391\n",
            "Epoch 5/10\n",
            "78/78 [==============================] - 118s 2s/step - loss: 0.3048 - accuracy: 0.8728 - val_loss: 0.6933 - val_accuracy: 0.7319\n",
            "Epoch 6/10\n",
            "78/78 [==============================] - 119s 2s/step - loss: 0.2332 - accuracy: 0.9011 - val_loss: 0.6327 - val_accuracy: 0.7355\n",
            "Epoch 7/10\n",
            "78/78 [==============================] - 121s 2s/step - loss: 0.1528 - accuracy: 0.9370 - val_loss: 0.8655 - val_accuracy: 0.6884\n",
            "Epoch 8/10\n",
            "78/78 [==============================] - 123s 2s/step - loss: 0.0952 - accuracy: 0.9637 - val_loss: 1.2375 - val_accuracy: 0.7609\n",
            "Epoch 9/10\n",
            "78/78 [==============================] - 120s 2s/step - loss: 0.0658 - accuracy: 0.9737 - val_loss: 1.2063 - val_accuracy: 0.7355\n",
            "Epoch 10/10\n",
            "78/78 [==============================] - 120s 2s/step - loss: 0.0458 - accuracy: 0.9842 - val_loss: 1.4042 - val_accuracy: 0.7500\n",
            "22/22 [==============================] - 8s 374ms/step - loss: 1.1097 - accuracy: 0.7645\n",
            "Test accuracy: 0.7645348906517029\n"
          ]
        }
      ]
    },
    {
      "cell_type": "code",
      "source": [
        "from tensorflow.keras.applications import MobileNetV2\n",
        "from tensorflow.keras.layers import GlobalAveragePooling2D\n",
        "\n",
        "# Load the pre-trained MobileNetV2 model without the top (classifier) layers\n",
        "base_model = MobileNetV2(input_shape=(150, 150, 3), include_top=False, weights='imagenet')\n",
        "\n",
        "# Freeze the base model layers\n",
        "for layer in base_model.layers:\n",
        "    layer.trainable = False\n",
        "\n",
        "# Create a custom classifier on top of the base model\n",
        "transfer_model = Sequential([\n",
        "    base_model,\n",
        "    GlobalAveragePooling2D(),\n",
        "    Dense(128, activation='relu'),\n",
        "    Dense(2, activation='softmax')\n",
        "])\n",
        "\n",
        "# Compile the transfer learning model\n",
        "transfer_model.compile(optimizer=Adam(), loss=SparseCategoricalCrossentropy(from_logits=True), metrics=['accuracy'])\n",
        "\n",
        "# Train the transfer learning model\n",
        "transfer_model.fit(X_train_normalized, y_train, epochs=10, validation_split=0.1)\n",
        "\n",
        "# Evaluate the transfer learning model on test data\n",
        "test_loss, test_accuracy = transfer_model.evaluate(X_test_normalized, y_test)\n",
        "print(f\"Test accuracy: {test_accuracy}\")\n"
      ],
      "metadata": {
        "id": "9n7_JbZJnJZf",
        "outputId": "06e0518c-888a-424e-d310-d848cb59a3c8",
        "colab": {
          "base_uri": "https://localhost:8080/"
        }
      },
      "execution_count": null,
      "outputs": [
        {
          "metadata": {
            "tags": null
          },
          "name": "stderr",
          "output_type": "stream",
          "text": [
            "WARNING:tensorflow:`input_shape` is undefined or non-square, or `rows` is not in [96, 128, 160, 192, 224]. Weights for input shape (224, 224) will be loaded as the default.\n"
          ]
        },
        {
          "metadata": {
            "tags": null
          },
          "name": "stdout",
          "output_type": "stream",
          "text": [
            "Downloading data from https://storage.googleapis.com/tensorflow/keras-applications/mobilenet_v2/mobilenet_v2_weights_tf_dim_ordering_tf_kernels_1.0_224_no_top.h5\n",
            "9406464/9406464 [==============================] - 1s 0us/step\n",
            "Epoch 1/10\n",
            "78/78 [==============================] - 57s 688ms/step - loss: 0.1567 - accuracy: 0.9471 - val_loss: 0.1677 - val_accuracy: 0.9529\n",
            "Epoch 2/10\n",
            "78/78 [==============================] - 48s 611ms/step - loss: 0.0709 - accuracy: 0.9721 - val_loss: 0.1724 - val_accuracy: 0.9457\n",
            "Epoch 3/10\n",
            "78/78 [==============================] - 49s 625ms/step - loss: 0.0400 - accuracy: 0.9838 - val_loss: 0.1752 - val_accuracy: 0.9529\n",
            "Epoch 4/10\n",
            "78/78 [==============================] - 47s 608ms/step - loss: 0.0185 - accuracy: 0.9943 - val_loss: 0.1967 - val_accuracy: 0.9457\n",
            "Epoch 5/10\n",
            "78/78 [==============================] - 45s 584ms/step - loss: 0.0134 - accuracy: 0.9952 - val_loss: 0.2286 - val_accuracy: 0.9493\n",
            "Epoch 6/10\n",
            "78/78 [==============================] - 47s 603ms/step - loss: 0.0079 - accuracy: 0.9984 - val_loss: 0.2152 - val_accuracy: 0.9565\n",
            "Epoch 7/10\n",
            "78/78 [==============================] - 45s 584ms/step - loss: 0.0043 - accuracy: 1.0000 - val_loss: 0.2236 - val_accuracy: 0.9493\n",
            "Epoch 8/10\n",
            "78/78 [==============================] - 44s 571ms/step - loss: 0.0018 - accuracy: 1.0000 - val_loss: 0.2430 - val_accuracy: 0.9601\n",
            "Epoch 9/10\n",
            "78/78 [==============================] - 45s 580ms/step - loss: 0.0014 - accuracy: 1.0000 - val_loss: 0.2338 - val_accuracy: 0.9493\n",
            "Epoch 10/10\n",
            "78/78 [==============================] - 45s 582ms/step - loss: 0.0010 - accuracy: 1.0000 - val_loss: 0.2486 - val_accuracy: 0.9493\n",
            "22/22 [==============================] - 11s 512ms/step - loss: 0.1972 - accuracy: 0.9608\n",
            "Test accuracy: 0.9607558250427246\n"
          ]
        }
      ]
    },
    {
      "cell_type": "markdown",
      "source": [
        "Simple feedforward neural network:\n",
        "* Test accuracy: 72.53%\n",
        "\n",
        "Convolutional neural network (CNN):\n",
        "* Test accuracy: 75.58%\n",
        "\n",
        "CNN with more epochs:\n",
        "* Test accuracy: 76.45%\n",
        "\n",
        "Transfer learning using MobileNetV2:\n",
        "* Test accuracy: 96.08%\n",
        "\n",
        "The best performing model is the transfer learning model using MobileNetV2, which achieved a test accuracy of 96.08%. This model significantly outperforms the other models, demonstrating the benefits of using transfer learning. By leveraging pre-trained weights from a model trained on a large dataset, transfer learning can lead to better feature extraction and classification."
      ],
      "metadata": {
        "id": "V0WrE00B8Qqw"
      }
    }
  ]
}